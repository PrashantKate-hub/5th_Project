{
 "cells": [
  {
   "cell_type": "code",
   "execution_count": null,
   "id": "ce6ba8eb-532d-4c44-a41c-e1c0ad8b8847",
   "metadata": {},
   "outputs": [
    {
     "name": "stdout",
     "output_type": "stream",
     "text": [
      "\n",
      "Text Reverser - Choose an option:\n",
      "1. Reverse Character Order\n",
      "2. Reverse Word Order\n",
      "3. Exit\n"
     ]
    },
    {
     "name": "stdin",
     "output_type": "stream",
     "text": [
      "Enter your choice (1/2/3):  1\n",
      "Enter text to reverse:  Hellll\n"
     ]
    },
    {
     "name": "stdout",
     "output_type": "stream",
     "text": [
      "Reversed Characters: lllleH\n"
     ]
    },
    {
     "name": "stdin",
     "output_type": "stream",
     "text": [
      "Do you want to save the reversed text? (yes/no):  No\n"
     ]
    },
    {
     "name": "stdout",
     "output_type": "stream",
     "text": [
      "\n",
      "Text Reverser - Choose an option:\n",
      "1. Reverse Character Order\n",
      "2. Reverse Word Order\n",
      "3. Exit\n"
     ]
    }
   ],
   "source": [
    "def reverse_characters(text):\n",
    "    return text[::-1]\n",
    "\n",
    "def reverse_words(text):\n",
    "    return ' '.join(text.split()[::-1])\n",
    "\n",
    "def save_to_file(text, filename=\"reversed_text.txt\"):\n",
    "    with open(filename, \"w\") as file:\n",
    "        file.write(text)\n",
    "    print(f\"Reversed text saved to {filename}\")\n",
    "\n",
    "def main():\n",
    "    while True:\n",
    "        print(\"\\nText Reverser - Choose an option:\")\n",
    "        print(\"1. Reverse Character Order\")\n",
    "        print(\"2. Reverse Word Order\")\n",
    "        print(\"3. Exit\")\n",
    "        choice = input(\"Enter your choice (1/2/3): \")\n",
    "        \n",
    "        if choice == \"1\":\n",
    "            text = input(\"Enter text to reverse: \").strip()\n",
    "            if text:\n",
    "                print(\"Reversed Characters:\", reverse_characters(text))\n",
    "            else:\n",
    "                print(\"Error: Input cannot be empty!\")\n",
    "        \n",
    "        elif choice == \"2\":\n",
    "            text = input(\"Enter text to reverse: \").strip()\n",
    "            if text:\n",
    "                print(\"Reversed Words:\", reverse_words(text))\n",
    "            else:\n",
    "                print(\"Error: Input cannot be empty!\")\n",
    "        \n",
    "        elif choice == \"3\":\n",
    "            print(\"Exiting program. Goodbye!\")\n",
    "            break\n",
    "        \n",
    "        else:\n",
    "            print(\"Invalid choice. Please enter 1, 2, or 3.\")\n",
    "        \n",
    "        save = input(\"Do you want to save the reversed text? (yes/no): \").lower()\n",
    "        if save == \"yes\":\n",
    "            save_to_file(text)\n",
    "\n",
    "if __name__ == \"__main__\":\n",
    "    main()\n"
   ]
  },
  {
   "cell_type": "code",
   "execution_count": null,
   "id": "ad95c09a-29ce-4345-a352-2251c5f76fdf",
   "metadata": {},
   "outputs": [],
   "source": []
  }
 ],
 "metadata": {
  "kernelspec": {
   "display_name": "Python 3 (ipykernel)",
   "language": "python",
   "name": "python3"
  },
  "language_info": {
   "codemirror_mode": {
    "name": "ipython",
    "version": 3
   },
   "file_extension": ".py",
   "mimetype": "text/x-python",
   "name": "python",
   "nbconvert_exporter": "python",
   "pygments_lexer": "ipython3",
   "version": "3.11.7"
  }
 },
 "nbformat": 4,
 "nbformat_minor": 5
}
